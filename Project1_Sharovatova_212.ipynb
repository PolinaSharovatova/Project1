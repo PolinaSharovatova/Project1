{
 "cells": [
  {
   "cell_type": "markdown",
   "metadata": {},
   "source": [
    "Датасет содержит информацию о различных наименованиях вина. Задачи анализа — ответить на следующие вопросы: \n",
    "    1) Какие вина стоит приобрести в коллекцию?\n",
    "    2) Какие страны производят наибольшее количество наименований вина? \n",
    "    3) Какие показатели влияют на цену вина? "
   ]
  },
  {
   "cell_type": "code",
   "execution_count": 1,
   "metadata": {},
   "outputs": [],
   "source": [
    "import pandas as pd\n",
    "import numpy as np\n",
    "import matplotlib.pyplot as plt\n",
    "import seaborn as sns"
   ]
  },
  {
   "cell_type": "code",
   "execution_count": 2,
   "metadata": {},
   "outputs": [],
   "source": [
    "df_red = pd.read_csv('Red.csv', sep = ',')"
   ]
  },
  {
   "cell_type": "code",
   "execution_count": 3,
   "metadata": {},
   "outputs": [
    {
     "name": "stdout",
     "output_type": "stream",
     "text": [
      "<class 'pandas.core.frame.DataFrame'>\n",
      "RangeIndex: 8666 entries, 0 to 8665\n",
      "Data columns (total 8 columns):\n",
      "Name               8666 non-null object\n",
      "Country            8666 non-null object\n",
      "Region             8666 non-null object\n",
      "Winery             8666 non-null object\n",
      "Rating             8666 non-null float64\n",
      "NumberOfRatings    8666 non-null int64\n",
      "Price              8666 non-null float64\n",
      "Year               8666 non-null object\n",
      "dtypes: float64(2), int64(1), object(5)\n",
      "memory usage: 541.7+ KB\n"
     ]
    }
   ],
   "source": [
    "df_red.info() \n",
    "#по выведенным данным видим, что в датасете нет ненулевых значений. Датасет содержит 8 колонок и 8666 строк. \n",
    "#В датасете 3 типа переменных"
   ]
  },
  {
   "cell_type": "code",
   "execution_count": 4,
   "metadata": {},
   "outputs": [
    {
     "data": {
      "text/html": [
       "<div>\n",
       "<style scoped>\n",
       "    .dataframe tbody tr th:only-of-type {\n",
       "        vertical-align: middle;\n",
       "    }\n",
       "\n",
       "    .dataframe tbody tr th {\n",
       "        vertical-align: top;\n",
       "    }\n",
       "\n",
       "    .dataframe thead th {\n",
       "        text-align: right;\n",
       "    }\n",
       "</style>\n",
       "<table border=\"1\" class=\"dataframe\">\n",
       "  <thead>\n",
       "    <tr style=\"text-align: right;\">\n",
       "      <th></th>\n",
       "      <th>Name</th>\n",
       "      <th>Country</th>\n",
       "      <th>Region</th>\n",
       "      <th>Winery</th>\n",
       "      <th>Rating</th>\n",
       "      <th>NumberOfRatings</th>\n",
       "      <th>Price</th>\n",
       "      <th>Year</th>\n",
       "    </tr>\n",
       "  </thead>\n",
       "  <tbody>\n",
       "    <tr>\n",
       "      <th>0</th>\n",
       "      <td>Pomerol 2011</td>\n",
       "      <td>France</td>\n",
       "      <td>Pomerol</td>\n",
       "      <td>Château La Providence</td>\n",
       "      <td>4.2</td>\n",
       "      <td>100</td>\n",
       "      <td>95.00</td>\n",
       "      <td>2011</td>\n",
       "    </tr>\n",
       "    <tr>\n",
       "      <th>1</th>\n",
       "      <td>Lirac 2017</td>\n",
       "      <td>France</td>\n",
       "      <td>Lirac</td>\n",
       "      <td>Château Mont-Redon</td>\n",
       "      <td>4.3</td>\n",
       "      <td>100</td>\n",
       "      <td>15.50</td>\n",
       "      <td>2017</td>\n",
       "    </tr>\n",
       "    <tr>\n",
       "      <th>2</th>\n",
       "      <td>Erta e China Rosso di Toscana 2015</td>\n",
       "      <td>Italy</td>\n",
       "      <td>Toscana</td>\n",
       "      <td>Renzo Masi</td>\n",
       "      <td>3.9</td>\n",
       "      <td>100</td>\n",
       "      <td>7.45</td>\n",
       "      <td>2015</td>\n",
       "    </tr>\n",
       "    <tr>\n",
       "      <th>3</th>\n",
       "      <td>Bardolino 2019</td>\n",
       "      <td>Italy</td>\n",
       "      <td>Bardolino</td>\n",
       "      <td>Cavalchina</td>\n",
       "      <td>3.5</td>\n",
       "      <td>100</td>\n",
       "      <td>8.72</td>\n",
       "      <td>2019</td>\n",
       "    </tr>\n",
       "    <tr>\n",
       "      <th>4</th>\n",
       "      <td>Ried Scheibner Pinot Noir 2016</td>\n",
       "      <td>Austria</td>\n",
       "      <td>Carnuntum</td>\n",
       "      <td>Markowitsch</td>\n",
       "      <td>3.9</td>\n",
       "      <td>100</td>\n",
       "      <td>29.15</td>\n",
       "      <td>2016</td>\n",
       "    </tr>\n",
       "  </tbody>\n",
       "</table>\n",
       "</div>"
      ],
      "text/plain": [
       "                                 Name  Country     Region  \\\n",
       "0                        Pomerol 2011   France    Pomerol   \n",
       "1                          Lirac 2017   France      Lirac   \n",
       "2  Erta e China Rosso di Toscana 2015    Italy    Toscana   \n",
       "3                      Bardolino 2019    Italy  Bardolino   \n",
       "4      Ried Scheibner Pinot Noir 2016  Austria  Carnuntum   \n",
       "\n",
       "                  Winery  Rating  NumberOfRatings  Price  Year  \n",
       "0  Château La Providence     4.2              100  95.00  2011  \n",
       "1     Château Mont-Redon     4.3              100  15.50  2017  \n",
       "2             Renzo Masi     3.9              100   7.45  2015  \n",
       "3             Cavalchina     3.5              100   8.72  2019  \n",
       "4            Markowitsch     3.9              100  29.15  2016  "
      ]
     },
     "execution_count": 4,
     "metadata": {},
     "output_type": "execute_result"
    }
   ],
   "source": [
    "df_red.head()"
   ]
  },
  {
   "cell_type": "code",
   "execution_count": 5,
   "metadata": {},
   "outputs": [
    {
     "data": {
      "text/html": [
       "<div>\n",
       "<style scoped>\n",
       "    .dataframe tbody tr th:only-of-type {\n",
       "        vertical-align: middle;\n",
       "    }\n",
       "\n",
       "    .dataframe tbody tr th {\n",
       "        vertical-align: top;\n",
       "    }\n",
       "\n",
       "    .dataframe thead th {\n",
       "        text-align: right;\n",
       "    }\n",
       "</style>\n",
       "<table border=\"1\" class=\"dataframe\">\n",
       "  <thead>\n",
       "    <tr style=\"text-align: right;\">\n",
       "      <th></th>\n",
       "      <th>Rating</th>\n",
       "      <th>NumberOfRatings</th>\n",
       "      <th>Price</th>\n",
       "    </tr>\n",
       "  </thead>\n",
       "  <tbody>\n",
       "    <tr>\n",
       "      <th>count</th>\n",
       "      <td>8666.000000</td>\n",
       "      <td>8666.000000</td>\n",
       "      <td>8666.000000</td>\n",
       "    </tr>\n",
       "    <tr>\n",
       "      <th>mean</th>\n",
       "      <td>3.890342</td>\n",
       "      <td>415.287445</td>\n",
       "      <td>39.145065</td>\n",
       "    </tr>\n",
       "    <tr>\n",
       "      <th>std</th>\n",
       "      <td>0.308548</td>\n",
       "      <td>899.726373</td>\n",
       "      <td>84.936307</td>\n",
       "    </tr>\n",
       "    <tr>\n",
       "      <th>min</th>\n",
       "      <td>2.500000</td>\n",
       "      <td>25.000000</td>\n",
       "      <td>3.550000</td>\n",
       "    </tr>\n",
       "    <tr>\n",
       "      <th>25%</th>\n",
       "      <td>3.700000</td>\n",
       "      <td>66.000000</td>\n",
       "      <td>10.680000</td>\n",
       "    </tr>\n",
       "    <tr>\n",
       "      <th>50%</th>\n",
       "      <td>3.900000</td>\n",
       "      <td>157.000000</td>\n",
       "      <td>18.200000</td>\n",
       "    </tr>\n",
       "    <tr>\n",
       "      <th>75%</th>\n",
       "      <td>4.100000</td>\n",
       "      <td>401.000000</td>\n",
       "      <td>38.142500</td>\n",
       "    </tr>\n",
       "    <tr>\n",
       "      <th>max</th>\n",
       "      <td>4.800000</td>\n",
       "      <td>20293.000000</td>\n",
       "      <td>3410.790000</td>\n",
       "    </tr>\n",
       "  </tbody>\n",
       "</table>\n",
       "</div>"
      ],
      "text/plain": [
       "            Rating  NumberOfRatings        Price\n",
       "count  8666.000000      8666.000000  8666.000000\n",
       "mean      3.890342       415.287445    39.145065\n",
       "std       0.308548       899.726373    84.936307\n",
       "min       2.500000        25.000000     3.550000\n",
       "25%       3.700000        66.000000    10.680000\n",
       "50%       3.900000       157.000000    18.200000\n",
       "75%       4.100000       401.000000    38.142500\n",
       "max       4.800000     20293.000000  3410.790000"
      ]
     },
     "execution_count": 5,
     "metadata": {},
     "output_type": "execute_result"
    }
   ],
   "source": [
    "df_red.describe() #получим статистическую информацию о датасете"
   ]
  },
  {
   "cell_type": "markdown",
   "metadata": {},
   "source": [
    "# Какие вина стоит приобрести в коллекцию?"
   ]
  },
  {
   "cell_type": "code",
   "execution_count": 6,
   "metadata": {},
   "outputs": [],
   "source": [
    "#Создадим бинарную переменную \"Collection\". \n",
    "#Туда попадут вина, которые удовлетворяют следующим условиям: исключительно высокая цена, рейтинг выше 4.5 и возраст старше 10 лет. "
   ]
  },
  {
   "cell_type": "markdown",
   "metadata": {},
   "source": [
    "1. Работаем с показателем Price"
   ]
  },
  {
   "cell_type": "code",
   "execution_count": 7,
   "metadata": {},
   "outputs": [
    {
     "data": {
      "text/plain": [
       "count    8666.000000\n",
       "mean       39.145065\n",
       "std        84.936307\n",
       "min         3.550000\n",
       "25%        10.680000\n",
       "50%        18.200000\n",
       "75%        38.142500\n",
       "max      3410.790000\n",
       "Name: Price, dtype: float64"
      ]
     },
     "execution_count": 7,
     "metadata": {},
     "output_type": "execute_result"
    }
   ],
   "source": [
    "#разделим вина на категории по ценам. для этого получим статистическую информацию о ценах. видим, что минимальная цена —  3.55, \n",
    "#максимальная — 3410,79, а средняя — 39,15. При этом 75% наименований имеют цену не выше 38,14\n",
    "df_red['Price'].describe() "
   ]
  },
  {
   "cell_type": "code",
   "execution_count": 8,
   "metadata": {},
   "outputs": [
    {
     "data": {
      "text/plain": [
       "<matplotlib.axes._subplots.AxesSubplot at 0x7f90d665ea20>"
      ]
     },
     "execution_count": 8,
     "metadata": {},
     "output_type": "execute_result"
    },
    {
     "data": {
      "image/png": "[encoded data removed]",
      "text/plain": [
       "<Figure size 432x288 with 1 Axes>"
      ]
     },
     "metadata": {},
     "output_type": "display_data"
    }
   ],
   "source": [
    "df_red['Price'].hist(bins = 100) #чтобы понять, на какие категории можно разделить данные, построим гистограмму"
   ]
  },
  {
   "cell_type": "code",
   "execution_count": 9,
   "metadata": {},
   "outputs": [
    {
     "name": "stdout",
     "output_type": "stream",
     "text": [
      "27.4625\n"
     ]
    }
   ],
   "source": [
    "q1 = df_red['Price'].quantile(0.25)\n",
    "q3 = df_red['Price'].quantile(0.75)\n",
    "iqr = q3 - q1\n",
    "print (iqr)"
   ]
  },
  {
   "cell_type": "code",
   "execution_count": 10,
   "metadata": {},
   "outputs": [
    {
     "name": "stdout",
     "output_type": "stream",
     "text": [
      "-30.513749999999995\n",
      "79.33624999999999\n"
     ]
    }
   ],
   "source": [
    "iqr_outlier_threshold_bottom = q1 - 1.5 * iqr\n",
    "iqr_outlier_threshold_up = q3 + 1.5 * iqr\n",
    "print(iqr_outlier_threshold_bottom)\n",
    "print(iqr_outlier_threshold_up)\n",
    "#отрицательное значение —> значит, слева от медианы не будет выбросов"
   ]
  },
  {
   "cell_type": "code",
   "execution_count": 11,
   "metadata": {},
   "outputs": [
    {
     "data": {
      "text/plain": [
       "(824, 8)"
      ]
     },
     "execution_count": 11,
     "metadata": {},
     "output_type": "execute_result"
    }
   ],
   "source": [
    "df_red[df_red['Price'] > iqr_outlier_threshold_up].shape #в нашем датасете 824 выброса по цене —> почти 10% от всех значений"
   ]
  },
  {
   "cell_type": "code",
   "execution_count": 12,
   "metadata": {},
   "outputs": [
    {
     "data": {
      "text/plain": [
       "France           436\n",
       "Italy            200\n",
       "United States     61\n",
       "Spain             49\n",
       "Australia         25\n",
       "Chile             15\n",
       "Argentina         10\n",
       "South Africa       9\n",
       "Germany            5\n",
       "New Zealand        5\n",
       "Austria            4\n",
       "Portugal           4\n",
       "Moldova            1\n",
       "Name: Country, dtype: int64"
      ]
     },
     "execution_count": 12,
     "metadata": {},
     "output_type": "execute_result"
    }
   ],
   "source": [
    "df_red[df_red['Price'] > iqr_outlier_threshold_up]['Country'].value_counts() \n",
    "#проверим, по каким странам больше всего выбросов —> в каких странах вина дороже 75% других наименований вин. \n",
    "#Топ-3: Франция, Италия, США"
   ]
  },
  {
   "cell_type": "code",
   "execution_count": 13,
   "metadata": {},
   "outputs": [
    {
     "data": {
      "text/plain": [
       "4.3    157\n",
       "4.4    153\n",
       "4.2    141\n",
       "4.5    114\n",
       "4.6     95\n",
       "4.1     74\n",
       "4.0     39\n",
       "4.7     26\n",
       "3.9     14\n",
       "4.8      6\n",
       "3.8      4\n",
       "3.7      1\n",
       "Name: Rating, dtype: int64"
      ]
     },
     "execution_count": 13,
     "metadata": {},
     "output_type": "execute_result"
    }
   ],
   "source": [
    "#проверим разброс по рейтингу\n",
    "df_red[df_red['Price'] > iqr_outlier_threshold_up]['Rating'].value_counts() \n",
    "#больше всего дорогих вин приходится на рейтинг 4.3, 4.4 и 4.2"
   ]
  },
  {
   "cell_type": "code",
   "execution_count": 14,
   "metadata": {},
   "outputs": [
    {
     "data": {
      "text/plain": [
       "2015    111\n",
       "2016    107\n",
       "2013     95\n",
       "2014     82\n",
       "2010     61\n",
       "2005     60\n",
       "2011     51\n",
       "2012     50\n",
       "2017     49\n",
       "2009     30\n",
       "2008     25\n",
       "2006     19\n",
       "2004     13\n",
       "2007     13\n",
       "2000     10\n",
       "1999      9\n",
       "2001      5\n",
       "1998      4\n",
       "2003      4\n",
       "2002      4\n",
       "1995      4\n",
       "1997      3\n",
       "1992      3\n",
       "1996      2\n",
       "2018      2\n",
       "1990      2\n",
       "1989      2\n",
       "1991      1\n",
       "1988      1\n",
       "N.V.      1\n",
       "1993      1\n",
       "Name: Year, dtype: int64"
      ]
     },
     "execution_count": 14,
     "metadata": {},
     "output_type": "execute_result"
    }
   ],
   "source": [
    "#наконец, проверим разброс по году\n",
    "df_red[df_red['Price'] > iqr_outlier_threshold_up]['Year'].value_counts()\n",
    "#больше всего выбросов по цене — в 2015, 2016 и 2013 гг."
   ]
  },
  {
   "cell_type": "code",
   "execution_count": 15,
   "metadata": {},
   "outputs": [],
   "source": [
    "#по графику видим, что все вина по ценам можно разделить на группы:\n",
    "def get_price_cat(Price):\n",
    "    if Price <= 50:\n",
    "        return 'Low'\n",
    "    elif Price <= 200:\n",
    "        return 'Middle'\n",
    "    elif Price <= 500:\n",
    "        return 'High'\n",
    "    elif Price <= 3500:\n",
    "        return 'Exceptional'\n",
    "    else: \n",
    "        return Price"
   ]
  },
  {
   "cell_type": "code",
   "execution_count": 16,
   "metadata": {},
   "outputs": [],
   "source": [
    "df_red['Price category'] = df_red['Price'].apply(get_price_cat) #присваиваем переменной имя"
   ]
  },
  {
   "cell_type": "code",
   "execution_count": 17,
   "metadata": {
    "scrolled": true
   },
   "outputs": [
    {
     "data": {
      "text/html": [
       "<div>\n",
       "<style scoped>\n",
       "    .dataframe tbody tr th:only-of-type {\n",
       "        vertical-align: middle;\n",
       "    }\n",
       "\n",
       "    .dataframe tbody tr th {\n",
       "        vertical-align: top;\n",
       "    }\n",
       "\n",
       "    .dataframe thead th {\n",
       "        text-align: right;\n",
       "    }\n",
       "</style>\n",
       "<table border=\"1\" class=\"dataframe\">\n",
       "  <thead>\n",
       "    <tr style=\"text-align: right;\">\n",
       "      <th></th>\n",
       "      <th>Name</th>\n",
       "      <th>Country</th>\n",
       "      <th>Region</th>\n",
       "      <th>Winery</th>\n",
       "      <th>Rating</th>\n",
       "      <th>NumberOfRatings</th>\n",
       "      <th>Price</th>\n",
       "      <th>Year</th>\n",
       "      <th>Price category</th>\n",
       "    </tr>\n",
       "  </thead>\n",
       "  <tbody>\n",
       "    <tr>\n",
       "      <th>0</th>\n",
       "      <td>Pomerol 2011</td>\n",
       "      <td>France</td>\n",
       "      <td>Pomerol</td>\n",
       "      <td>Château La Providence</td>\n",
       "      <td>4.2</td>\n",
       "      <td>100</td>\n",
       "      <td>95.00</td>\n",
       "      <td>2011</td>\n",
       "      <td>Middle</td>\n",
       "    </tr>\n",
       "    <tr>\n",
       "      <th>1</th>\n",
       "      <td>Lirac 2017</td>\n",
       "      <td>France</td>\n",
       "      <td>Lirac</td>\n",
       "      <td>Château Mont-Redon</td>\n",
       "      <td>4.3</td>\n",
       "      <td>100</td>\n",
       "      <td>15.50</td>\n",
       "      <td>2017</td>\n",
       "      <td>Low</td>\n",
       "    </tr>\n",
       "    <tr>\n",
       "      <th>2</th>\n",
       "      <td>Erta e China Rosso di Toscana 2015</td>\n",
       "      <td>Italy</td>\n",
       "      <td>Toscana</td>\n",
       "      <td>Renzo Masi</td>\n",
       "      <td>3.9</td>\n",
       "      <td>100</td>\n",
       "      <td>7.45</td>\n",
       "      <td>2015</td>\n",
       "      <td>Low</td>\n",
       "    </tr>\n",
       "    <tr>\n",
       "      <th>3</th>\n",
       "      <td>Bardolino 2019</td>\n",
       "      <td>Italy</td>\n",
       "      <td>Bardolino</td>\n",
       "      <td>Cavalchina</td>\n",
       "      <td>3.5</td>\n",
       "      <td>100</td>\n",
       "      <td>8.72</td>\n",
       "      <td>2019</td>\n",
       "      <td>Low</td>\n",
       "    </tr>\n",
       "    <tr>\n",
       "      <th>4</th>\n",
       "      <td>Ried Scheibner Pinot Noir 2016</td>\n",
       "      <td>Austria</td>\n",
       "      <td>Carnuntum</td>\n",
       "      <td>Markowitsch</td>\n",
       "      <td>3.9</td>\n",
       "      <td>100</td>\n",
       "      <td>29.15</td>\n",
       "      <td>2016</td>\n",
       "      <td>Low</td>\n",
       "    </tr>\n",
       "  </tbody>\n",
       "</table>\n",
       "</div>"
      ],
      "text/plain": [
       "                                 Name  Country     Region  \\\n",
       "0                        Pomerol 2011   France    Pomerol   \n",
       "1                          Lirac 2017   France      Lirac   \n",
       "2  Erta e China Rosso di Toscana 2015    Italy    Toscana   \n",
       "3                      Bardolino 2019    Italy  Bardolino   \n",
       "4      Ried Scheibner Pinot Noir 2016  Austria  Carnuntum   \n",
       "\n",
       "                  Winery  Rating  NumberOfRatings  Price  Year Price category  \n",
       "0  Château La Providence     4.2              100  95.00  2011         Middle  \n",
       "1     Château Mont-Redon     4.3              100  15.50  2017            Low  \n",
       "2             Renzo Masi     3.9              100   7.45  2015            Low  \n",
       "3             Cavalchina     3.5              100   8.72  2019            Low  \n",
       "4            Markowitsch     3.9              100  29.15  2016            Low  "
      ]
     },
     "execution_count": 17,
     "metadata": {},
     "output_type": "execute_result"
    }
   ],
   "source": [
    "df_red.head()"
   ]
  },
  {
   "cell_type": "code",
   "execution_count": 18,
   "metadata": {},
   "outputs": [],
   "source": [
    "df_red['Price category'] = pd.Categorical(df_red['Price category']) #обозначим, что это категориальная переменная"
   ]
  },
  {
   "cell_type": "code",
   "execution_count": 19,
   "metadata": {
    "scrolled": true
   },
   "outputs": [
    {
     "data": {
      "text/plain": [
       "Low            7139\n",
       "Middle         1328\n",
       "High            155\n",
       "Exceptional      44\n",
       "Name: Price category, dtype: int64"
      ]
     },
     "execution_count": 19,
     "metadata": {},
     "output_type": "execute_result"
    }
   ],
   "source": [
    "df_red['Price category'].value_counts()"
   ]
  },
  {
   "cell_type": "markdown",
   "metadata": {},
   "source": [
    "2. Работаем с показателем Rating"
   ]
  },
  {
   "cell_type": "code",
   "execution_count": 20,
   "metadata": {},
   "outputs": [
    {
     "data": {
      "text/plain": [
       "<matplotlib.axes._subplots.AxesSubplot at 0x7f90d7508ba8>"
      ]
     },
     "execution_count": 20,
     "metadata": {},
     "output_type": "execute_result"
    },
    {
     "data": {
      "image/png": "[encoded data removed]",
      "text/plain": [
       "<Figure size 432x288 with 1 Axes>"
      ]
     },
     "metadata": {},
     "output_type": "display_data"
    }
   ],
   "source": [
    "df_red['Rating'].hist()"
   ]
  },
  {
   "cell_type": "code",
   "execution_count": 21,
   "metadata": {},
   "outputs": [
    {
     "data": {
      "text/plain": [
       "count    8666.000000\n",
       "mean        3.890342\n",
       "std         0.308548\n",
       "min         2.500000\n",
       "25%         3.700000\n",
       "50%         3.900000\n",
       "75%         4.100000\n",
       "max         4.800000\n",
       "Name: Rating, dtype: float64"
      ]
     },
     "execution_count": 21,
     "metadata": {},
     "output_type": "execute_result"
    }
   ],
   "source": [
    "df_red['Rating'].describe() #разделим вина на категории по рейтингу. \n",
    "#для этого получим статистическую информацию о рейтинге. видим, что минимальный показатель —  2.5, \n",
    "#максимальный — 4.8, а средний — 3.89. При этом 75% наименований имеют цену не выше 4.1"
   ]
  },
  {
   "cell_type": "code",
   "execution_count": 22,
   "metadata": {},
   "outputs": [
    {
     "data": {
      "text/plain": [
       "0                  8379\n",
       "Higher than 4.5     287\n",
       "Name: Rating, dtype: int64"
      ]
     },
     "execution_count": 22,
     "metadata": {},
     "output_type": "execute_result"
    }
   ],
   "source": [
    "df_red['Rating'].apply(lambda x:'Higher than 4.5' if x >= 4.5 else 0).value_counts() \n",
    "#проверяем, сколько наименований имеют рейтинг выше 4.5"
   ]
  },
  {
   "cell_type": "code",
   "execution_count": 23,
   "metadata": {},
   "outputs": [],
   "source": [
    "df_red['High rating'] = df_red['Rating'].apply(lambda x:'Higher than 4.5' if x >= 4.5 else 0)"
   ]
  },
  {
   "cell_type": "code",
   "execution_count": 24,
   "metadata": {},
   "outputs": [
    {
     "name": "stdout",
     "output_type": "stream",
     "text": [
      "<class 'pandas.core.frame.DataFrame'>\n",
      "RangeIndex: 8666 entries, 0 to 8665\n",
      "Data columns (total 10 columns):\n",
      "Name               8666 non-null object\n",
      "Country            8666 non-null object\n",
      "Region             8666 non-null object\n",
      "Winery             8666 non-null object\n",
      "Rating             8666 non-null float64\n",
      "NumberOfRatings    8666 non-null int64\n",
      "Price              8666 non-null float64\n",
      "Year               8666 non-null object\n",
      "Price category     8666 non-null category\n",
      "High rating        8666 non-null object\n",
      "dtypes: category(1), float64(2), int64(1), object(6)\n",
      "memory usage: 618.1+ KB\n"
     ]
    }
   ],
   "source": [
    "df_red.info()"
   ]
  },
  {
   "cell_type": "markdown",
   "metadata": {},
   "source": [
    "3. Работаем с показателем Year"
   ]
  },
  {
   "cell_type": "code",
   "execution_count": 25,
   "metadata": {},
   "outputs": [
    {
     "data": {
      "text/plain": [
       "2016    1776\n",
       "2017    1558\n",
       "2015    1396\n",
       "2018    1099\n",
       "2014     798\n",
       "2013     564\n",
       "2012     371\n",
       "2011     278\n",
       "2010     174\n",
       "2005     154\n",
       "2019     116\n",
       "2009      84\n",
       "2008      80\n",
       "2006      44\n",
       "2007      43\n",
       "2004      27\n",
       "2000      19\n",
       "1999      15\n",
       "2001      12\n",
       "2003      11\n",
       "N.V.       8\n",
       "2002       7\n",
       "1997       7\n",
       "1998       6\n",
       "1996       5\n",
       "1995       4\n",
       "1992       3\n",
       "1990       2\n",
       "1989       2\n",
       "1988       1\n",
       "1991       1\n",
       "1993       1\n",
       "Name: Year, dtype: int64"
      ]
     },
     "execution_count": 25,
     "metadata": {},
     "output_type": "execute_result"
    }
   ],
   "source": [
    "df_red['Year'].value_counts()"
   ]
  },
  {
   "cell_type": "code",
   "execution_count": 26,
   "metadata": {},
   "outputs": [],
   "source": [
    "#по info выше мы увидели, что показатель Year — integer, что будет мешать нам сравнивать вина по степени винтажности. \n",
    "#Более того, по выводу выше видно, что там есть значение N.V., что означает nonvintage wine — смесь вин 2 и более лет. \n",
    "#Введем вместо этого показателя любое число, например, 2030 год — его точно не встречалось в датасете\n",
    "\n",
    "df_red['Year'] = df_red['Year'].replace('N.V.', 2030)\n",
    "df_red['Year'] = df_red['Year'].astype('int')"
   ]
  },
  {
   "cell_type": "code",
   "execution_count": 27,
   "metadata": {},
   "outputs": [
    {
     "data": {
      "text/plain": [
       "<matplotlib.axes._subplots.AxesSubplot at 0x7f90d76be9b0>"
      ]
     },
     "execution_count": 27,
     "metadata": {},
     "output_type": "execute_result"
    },
    {
     "data": {
      "image/png": "[encoded data removed]",
      "text/plain": [
       "<Figure size 432x288 with 1 Axes>"
      ]
     },
     "metadata": {},
     "output_type": "display_data"
    }
   ],
   "source": [
    "df_red['Year'].value_counts().plot(kind = 'bar')"
   ]
  },
  {
   "cell_type": "code",
   "execution_count": 28,
   "metadata": {},
   "outputs": [],
   "source": [
    "def get_year_cat(Year):\n",
    "    if Year >= 2020:\n",
    "        return 'Young'\n",
    "    elif Year >= 2018:\n",
    "        return 'Aged'\n",
    "    elif Year >= 2015:\n",
    "        return 'Vintage'\n",
    "    elif Year >= 2010:\n",
    "        return 'Collection'\n",
    "    else: \n",
    "        return Year"
   ]
  },
  {
   "cell_type": "code",
   "execution_count": 29,
   "metadata": {},
   "outputs": [],
   "source": [
    "df_red['Year category'] = df_red['Year'].apply(get_year_cat) #присваиваем переменной имя"
   ]
  },
  {
   "cell_type": "code",
   "execution_count": 30,
   "metadata": {},
   "outputs": [],
   "source": [
    "df_red['Year category'] = pd.Categorical(df_red['Year category']) #обозначим, что это категориальная переменная"
   ]
  },
  {
   "cell_type": "code",
   "execution_count": 31,
   "metadata": {},
   "outputs": [
    {
     "data": {
      "text/html": [
       "<div>\n",
       "<style scoped>\n",
       "    .dataframe tbody tr th:only-of-type {\n",
       "        vertical-align: middle;\n",
       "    }\n",
       "\n",
       "    .dataframe tbody tr th {\n",
       "        vertical-align: top;\n",
       "    }\n",
       "\n",
       "    .dataframe thead th {\n",
       "        text-align: right;\n",
       "    }\n",
       "</style>\n",
       "<table border=\"1\" class=\"dataframe\">\n",
       "  <thead>\n",
       "    <tr style=\"text-align: right;\">\n",
       "      <th></th>\n",
       "      <th>Name</th>\n",
       "      <th>Country</th>\n",
       "      <th>Region</th>\n",
       "      <th>Winery</th>\n",
       "      <th>Rating</th>\n",
       "      <th>NumberOfRatings</th>\n",
       "      <th>Price</th>\n",
       "      <th>Year</th>\n",
       "      <th>Price category</th>\n",
       "      <th>High rating</th>\n",
       "      <th>Year category</th>\n",
       "    </tr>\n",
       "  </thead>\n",
       "  <tbody>\n",
       "    <tr>\n",
       "      <th>0</th>\n",
       "      <td>Pomerol 2011</td>\n",
       "      <td>France</td>\n",
       "      <td>Pomerol</td>\n",
       "      <td>Château La Providence</td>\n",
       "      <td>4.2</td>\n",
       "      <td>100</td>\n",
       "      <td>95.00</td>\n",
       "      <td>2011</td>\n",
       "      <td>Middle</td>\n",
       "      <td>0</td>\n",
       "      <td>Collection</td>\n",
       "    </tr>\n",
       "    <tr>\n",
       "      <th>1</th>\n",
       "      <td>Lirac 2017</td>\n",
       "      <td>France</td>\n",
       "      <td>Lirac</td>\n",
       "      <td>Château Mont-Redon</td>\n",
       "      <td>4.3</td>\n",
       "      <td>100</td>\n",
       "      <td>15.50</td>\n",
       "      <td>2017</td>\n",
       "      <td>Low</td>\n",
       "      <td>0</td>\n",
       "      <td>Vintage</td>\n",
       "    </tr>\n",
       "    <tr>\n",
       "      <th>2</th>\n",
       "      <td>Erta e China Rosso di Toscana 2015</td>\n",
       "      <td>Italy</td>\n",
       "      <td>Toscana</td>\n",
       "      <td>Renzo Masi</td>\n",
       "      <td>3.9</td>\n",
       "      <td>100</td>\n",
       "      <td>7.45</td>\n",
       "      <td>2015</td>\n",
       "      <td>Low</td>\n",
       "      <td>0</td>\n",
       "      <td>Vintage</td>\n",
       "    </tr>\n",
       "    <tr>\n",
       "      <th>3</th>\n",
       "      <td>Bardolino 2019</td>\n",
       "      <td>Italy</td>\n",
       "      <td>Bardolino</td>\n",
       "      <td>Cavalchina</td>\n",
       "      <td>3.5</td>\n",
       "      <td>100</td>\n",
       "      <td>8.72</td>\n",
       "      <td>2019</td>\n",
       "      <td>Low</td>\n",
       "      <td>0</td>\n",
       "      <td>Aged</td>\n",
       "    </tr>\n",
       "    <tr>\n",
       "      <th>4</th>\n",
       "      <td>Ried Scheibner Pinot Noir 2016</td>\n",
       "      <td>Austria</td>\n",
       "      <td>Carnuntum</td>\n",
       "      <td>Markowitsch</td>\n",
       "      <td>3.9</td>\n",
       "      <td>100</td>\n",
       "      <td>29.15</td>\n",
       "      <td>2016</td>\n",
       "      <td>Low</td>\n",
       "      <td>0</td>\n",
       "      <td>Vintage</td>\n",
       "    </tr>\n",
       "  </tbody>\n",
       "</table>\n",
       "</div>"
      ],
      "text/plain": [
       "                                 Name  Country     Region  \\\n",
       "0                        Pomerol 2011   France    Pomerol   \n",
       "1                          Lirac 2017   France      Lirac   \n",
       "2  Erta e China Rosso di Toscana 2015    Italy    Toscana   \n",
       "3                      Bardolino 2019    Italy  Bardolino   \n",
       "4      Ried Scheibner Pinot Noir 2016  Austria  Carnuntum   \n",
       "\n",
       "                  Winery  Rating  NumberOfRatings  Price  Year Price category  \\\n",
       "0  Château La Providence     4.2              100  95.00  2011         Middle   \n",
       "1     Château Mont-Redon     4.3              100  15.50  2017            Low   \n",
       "2             Renzo Masi     3.9              100   7.45  2015            Low   \n",
       "3             Cavalchina     3.5              100   8.72  2019            Low   \n",
       "4            Markowitsch     3.9              100  29.15  2016            Low   \n",
       "\n",
       "  High rating Year category  \n",
       "0           0    Collection  \n",
       "1           0       Vintage  \n",
       "2           0       Vintage  \n",
       "3           0          Aged  \n",
       "4           0       Vintage  "
      ]
     },
     "execution_count": 31,
     "metadata": {},
     "output_type": "execute_result"
    }
   ],
   "source": [
    "df_red.head()"
   ]
  },
  {
   "cell_type": "code",
   "execution_count": 32,
   "metadata": {},
   "outputs": [
    {
     "data": {
      "text/plain": [
       "array([0, 0, 0, ..., 0, 0, 0])"
      ]
     },
     "execution_count": 32,
     "metadata": {},
     "output_type": "execute_result"
    }
   ],
   "source": [
    "np.where((df_red['Price category'] == 'Exceptional') &\n",
    "         (df_red['High rating'] == 'Higher than 4.5') &\n",
    "         (df_red['Year category'] == 'Collection'), 1, 0)"
   ]
  },
  {
   "cell_type": "code",
   "execution_count": 33,
   "metadata": {},
   "outputs": [],
   "source": [
    "df_red['Wine to collect'] = np.where((df_red['Price category'] == 'Exceptional') &\n",
    "         (df_red['High rating'] == 'Higher than 4.5') &\n",
    "         (df_red['Year category'] == 'Collection'), 1, 0)"
   ]
  },
  {
   "cell_type": "code",
   "execution_count": 34,
   "metadata": {},
   "outputs": [
    {
     "data": {
      "text/plain": [
       "0    8653\n",
       "1      13\n",
       "Name: Wine to collect, dtype: int64"
      ]
     },
     "execution_count": 34,
     "metadata": {},
     "output_type": "execute_result"
    }
   ],
   "source": [
    "df_red['Wine to collect'].value_counts()\n",
    "#итог — 13 наименований из списка удовлетворяют критериям коллекционного вина"
   ]
  },
  {
   "cell_type": "code",
   "execution_count": 35,
   "metadata": {},
   "outputs": [
    {
     "data": {
      "text/html": [
       "<div>\n",
       "<style scoped>\n",
       "    .dataframe tbody tr th:only-of-type {\n",
       "        vertical-align: middle;\n",
       "    }\n",
       "\n",
       "    .dataframe tbody tr th {\n",
       "        vertical-align: top;\n",
       "    }\n",
       "\n",
       "    .dataframe thead th {\n",
       "        text-align: right;\n",
       "    }\n",
       "</style>\n",
       "<table border=\"1\" class=\"dataframe\">\n",
       "  <thead>\n",
       "    <tr style=\"text-align: right;\">\n",
       "      <th></th>\n",
       "      <th>Name</th>\n",
       "      <th>Country</th>\n",
       "      <th>Region</th>\n",
       "      <th>Winery</th>\n",
       "      <th>Rating</th>\n",
       "      <th>NumberOfRatings</th>\n",
       "      <th>Price</th>\n",
       "      <th>Year</th>\n",
       "      <th>Price category</th>\n",
       "      <th>High rating</th>\n",
       "      <th>Year category</th>\n",
       "      <th>Wine to collect</th>\n",
       "    </tr>\n",
       "  </thead>\n",
       "  <tbody>\n",
       "    <tr>\n",
       "      <th>0</th>\n",
       "      <td>Pomerol 2011</td>\n",
       "      <td>France</td>\n",
       "      <td>Pomerol</td>\n",
       "      <td>Château La Providence</td>\n",
       "      <td>4.2</td>\n",
       "      <td>100</td>\n",
       "      <td>95.00</td>\n",
       "      <td>2011</td>\n",
       "      <td>Middle</td>\n",
       "      <td>0</td>\n",
       "      <td>Collection</td>\n",
       "      <td>0</td>\n",
       "    </tr>\n",
       "    <tr>\n",
       "      <th>1</th>\n",
       "      <td>Lirac 2017</td>\n",
       "      <td>France</td>\n",
       "      <td>Lirac</td>\n",
       "      <td>Château Mont-Redon</td>\n",
       "      <td>4.3</td>\n",
       "      <td>100</td>\n",
       "      <td>15.50</td>\n",
       "      <td>2017</td>\n",
       "      <td>Low</td>\n",
       "      <td>0</td>\n",
       "      <td>Vintage</td>\n",
       "      <td>0</td>\n",
       "    </tr>\n",
       "    <tr>\n",
       "      <th>2</th>\n",
       "      <td>Erta e China Rosso di Toscana 2015</td>\n",
       "      <td>Italy</td>\n",
       "      <td>Toscana</td>\n",
       "      <td>Renzo Masi</td>\n",
       "      <td>3.9</td>\n",
       "      <td>100</td>\n",
       "      <td>7.45</td>\n",
       "      <td>2015</td>\n",
       "      <td>Low</td>\n",
       "      <td>0</td>\n",
       "      <td>Vintage</td>\n",
       "      <td>0</td>\n",
       "    </tr>\n",
       "    <tr>\n",
       "      <th>3</th>\n",
       "      <td>Bardolino 2019</td>\n",
       "      <td>Italy</td>\n",
       "      <td>Bardolino</td>\n",
       "      <td>Cavalchina</td>\n",
       "      <td>3.5</td>\n",
       "      <td>100</td>\n",
       "      <td>8.72</td>\n",
       "      <td>2019</td>\n",
       "      <td>Low</td>\n",
       "      <td>0</td>\n",
       "      <td>Aged</td>\n",
       "      <td>0</td>\n",
       "    </tr>\n",
       "    <tr>\n",
       "      <th>4</th>\n",
       "      <td>Ried Scheibner Pinot Noir 2016</td>\n",
       "      <td>Austria</td>\n",
       "      <td>Carnuntum</td>\n",
       "      <td>Markowitsch</td>\n",
       "      <td>3.9</td>\n",
       "      <td>100</td>\n",
       "      <td>29.15</td>\n",
       "      <td>2016</td>\n",
       "      <td>Low</td>\n",
       "      <td>0</td>\n",
       "      <td>Vintage</td>\n",
       "      <td>0</td>\n",
       "    </tr>\n",
       "  </tbody>\n",
       "</table>\n",
       "</div>"
      ],
      "text/plain": [
       "                                 Name  Country     Region  \\\n",
       "0                        Pomerol 2011   France    Pomerol   \n",
       "1                          Lirac 2017   France      Lirac   \n",
       "2  Erta e China Rosso di Toscana 2015    Italy    Toscana   \n",
       "3                      Bardolino 2019    Italy  Bardolino   \n",
       "4      Ried Scheibner Pinot Noir 2016  Austria  Carnuntum   \n",
       "\n",
       "                  Winery  Rating  NumberOfRatings  Price  Year Price category  \\\n",
       "0  Château La Providence     4.2              100  95.00  2011         Middle   \n",
       "1     Château Mont-Redon     4.3              100  15.50  2017            Low   \n",
       "2             Renzo Masi     3.9              100   7.45  2015            Low   \n",
       "3             Cavalchina     3.5              100   8.72  2019            Low   \n",
       "4            Markowitsch     3.9              100  29.15  2016            Low   \n",
       "\n",
       "  High rating Year category  Wine to collect  \n",
       "0           0    Collection                0  \n",
       "1           0       Vintage                0  \n",
       "2           0       Vintage                0  \n",
       "3           0          Aged                0  \n",
       "4           0       Vintage                0  "
      ]
     },
     "execution_count": 35,
     "metadata": {},
     "output_type": "execute_result"
    }
   ],
   "source": [
    "df_red.head() #проверим"
   ]
  },
  {
   "cell_type": "code",
   "execution_count": 36,
   "metadata": {},
   "outputs": [
    {
     "name": "stdout",
     "output_type": "stream",
     "text": [
      "<class 'pandas.core.frame.DataFrame'>\n",
      "RangeIndex: 8666 entries, 0 to 8665\n",
      "Data columns (total 12 columns):\n",
      "Name               8666 non-null object\n",
      "Country            8666 non-null object\n",
      "Region             8666 non-null object\n",
      "Winery             8666 non-null object\n",
      "Rating             8666 non-null float64\n",
      "NumberOfRatings    8666 non-null int64\n",
      "Price              8666 non-null float64\n",
      "Year               8666 non-null int64\n",
      "Price category     8666 non-null category\n",
      "High rating        8666 non-null object\n",
      "Year category      8666 non-null category\n",
      "Wine to collect    8666 non-null int64\n",
      "dtypes: category(2), float64(2), int64(3), object(5)\n",
      "memory usage: 695.0+ KB\n"
     ]
    }
   ],
   "source": [
    " df_red.info() #проверим типа данных столбцов High rating и Wine to collect, чтобы в дальнейшем он не препятствовал работе. \n",
    "#Это int, а нужно boolean. "
   ]
  },
  {
   "cell_type": "code",
   "execution_count": 37,
   "metadata": {},
   "outputs": [],
   "source": [
    "df_red['Wine to collect'] = df_red['Wine to collect'].astype(bool)"
   ]
  },
  {
   "cell_type": "code",
   "execution_count": 38,
   "metadata": {},
   "outputs": [],
   "source": [
    "df_red['High rating'] = df_red['Wine to collect'].astype(bool)"
   ]
  },
  {
   "cell_type": "code",
   "execution_count": 39,
   "metadata": {},
   "outputs": [
    {
     "name": "stdout",
     "output_type": "stream",
     "text": [
      "<class 'pandas.core.frame.DataFrame'>\n",
      "RangeIndex: 8666 entries, 0 to 8665\n",
      "Data columns (total 12 columns):\n",
      "Name               8666 non-null object\n",
      "Country            8666 non-null object\n",
      "Region             8666 non-null object\n",
      "Winery             8666 non-null object\n",
      "Rating             8666 non-null float64\n",
      "NumberOfRatings    8666 non-null int64\n",
      "Price              8666 non-null float64\n",
      "Year               8666 non-null int64\n",
      "Price category     8666 non-null category\n",
      "High rating        8666 non-null bool\n",
      "Year category      8666 non-null category\n",
      "Wine to collect    8666 non-null bool\n",
      "dtypes: bool(2), category(2), float64(2), int64(2), object(4)\n",
      "memory usage: 576.6+ KB\n"
     ]
    }
   ],
   "source": [
    "df_red.info()"
   ]
  },
  {
   "cell_type": "markdown",
   "metadata": {},
   "source": [
    "# Какие страны производят больше всего наименований вина?"
   ]
  },
  {
   "cell_type": "code",
   "execution_count": 40,
   "metadata": {},
   "outputs": [
    {
     "data": {
      "text/plain": [
       "30"
      ]
     },
     "execution_count": 40,
     "metadata": {},
     "output_type": "execute_result"
    }
   ],
   "source": [
    "df_red['Country'].nunique() #просмотрим, вина из скольки стран есть в датасете"
   ]
  },
  {
   "cell_type": "code",
   "execution_count": 41,
   "metadata": {},
   "outputs": [
    {
     "data": {
      "text/plain": [
       "Italy            2650\n",
       "France           2256\n",
       "Spain            1142\n",
       "South Africa      500\n",
       "United States     374\n",
       "Chile             326\n",
       "Germany           248\n",
       "Australia         246\n",
       "Argentina         246\n",
       "Portugal          230\n",
       "Austria           220\n",
       "New Zealand        63\n",
       "Brazil             40\n",
       "Romania            23\n",
       "Lebanon            15\n",
       "Israel             13\n",
       "Greece             13\n",
       "Switzerland        12\n",
       "Hungary             9\n",
       "Slovenia            8\n",
       "Moldova             8\n",
       "Turkey              6\n",
       "Georgia             5\n",
       "Uruguay             4\n",
       "Bulgaria            2\n",
       "Canada              2\n",
       "Croatia             2\n",
       "China               1\n",
       "Mexico              1\n",
       "Slovakia            1\n",
       "Name: Country, dtype: int64"
      ]
     },
     "execution_count": 41,
     "metadata": {},
     "output_type": "execute_result"
    }
   ],
   "source": [
    "df_red['Country'].value_counts() #просмотрим, какие это страны"
   ]
  },
  {
   "cell_type": "code",
   "execution_count": 42,
   "metadata": {},
   "outputs": [],
   "source": [
    "producer_list = {'Production':df_red['Country'].value_counts()} \n",
    "#создадим словарь, в котором присвоим стране объем производимого вина"
   ]
  },
  {
   "cell_type": "code",
   "execution_count": 43,
   "metadata": {},
   "outputs": [],
   "source": [
    "df_producer = pd.DataFrame.from_dict(producer_list) #создадим датафрейм, чтобы работать с этим словарем"
   ]
  },
  {
   "cell_type": "code",
   "execution_count": 44,
   "metadata": {},
   "outputs": [
    {
     "data": {
      "text/html": [
       "<div>\n",
       "<style scoped>\n",
       "    .dataframe tbody tr th:only-of-type {\n",
       "        vertical-align: middle;\n",
       "    }\n",
       "\n",
       "    .dataframe tbody tr th {\n",
       "        vertical-align: top;\n",
       "    }\n",
       "\n",
       "    .dataframe thead th {\n",
       "        text-align: right;\n",
       "    }\n",
       "</style>\n",
       "<table border=\"1\" class=\"dataframe\">\n",
       "  <thead>\n",
       "    <tr style=\"text-align: right;\">\n",
       "      <th></th>\n",
       "      <th>Production</th>\n",
       "    </tr>\n",
       "  </thead>\n",
       "  <tbody>\n",
       "    <tr>\n",
       "      <th>Italy</th>\n",
       "      <td>2650</td>\n",
       "    </tr>\n",
       "    <tr>\n",
       "      <th>France</th>\n",
       "      <td>2256</td>\n",
       "    </tr>\n",
       "    <tr>\n",
       "      <th>Spain</th>\n",
       "      <td>1142</td>\n",
       "    </tr>\n",
       "    <tr>\n",
       "      <th>South Africa</th>\n",
       "      <td>500</td>\n",
       "    </tr>\n",
       "    <tr>\n",
       "      <th>United States</th>\n",
       "      <td>374</td>\n",
       "    </tr>\n",
       "  </tbody>\n",
       "</table>\n",
       "</div>"
      ],
      "text/plain": [
       "               Production\n",
       "Italy                2650\n",
       "France               2256\n",
       "Spain                1142\n",
       "South Africa          500\n",
       "United States         374"
      ]
     },
     "execution_count": 44,
     "metadata": {},
     "output_type": "execute_result"
    }
   ],
   "source": [
    "df_producer.head() #проверяем, корректно ли записался датафрейм"
   ]
  },
  {
   "cell_type": "code",
   "execution_count": 45,
   "metadata": {},
   "outputs": [],
   "source": [
    "df_producer = df_producer.reset_index(level=0) #записываем название страны не в индекс, а в колонку"
   ]
  },
  {
   "cell_type": "code",
   "execution_count": 46,
   "metadata": {},
   "outputs": [
    {
     "data": {
      "text/html": [
       "<div>\n",
       "<style scoped>\n",
       "    .dataframe tbody tr th:only-of-type {\n",
       "        vertical-align: middle;\n",
       "    }\n",
       "\n",
       "    .dataframe tbody tr th {\n",
       "        vertical-align: top;\n",
       "    }\n",
       "\n",
       "    .dataframe thead th {\n",
       "        text-align: right;\n",
       "    }\n",
       "</style>\n",
       "<table border=\"1\" class=\"dataframe\">\n",
       "  <thead>\n",
       "    <tr style=\"text-align: right;\">\n",
       "      <th></th>\n",
       "      <th>index</th>\n",
       "      <th>Production</th>\n",
       "    </tr>\n",
       "  </thead>\n",
       "  <tbody>\n",
       "    <tr>\n",
       "      <th>0</th>\n",
       "      <td>Italy</td>\n",
       "      <td>2650</td>\n",
       "    </tr>\n",
       "    <tr>\n",
       "      <th>1</th>\n",
       "      <td>France</td>\n",
       "      <td>2256</td>\n",
       "    </tr>\n",
       "    <tr>\n",
       "      <th>2</th>\n",
       "      <td>Spain</td>\n",
       "      <td>1142</td>\n",
       "    </tr>\n",
       "    <tr>\n",
       "      <th>3</th>\n",
       "      <td>South Africa</td>\n",
       "      <td>500</td>\n",
       "    </tr>\n",
       "    <tr>\n",
       "      <th>4</th>\n",
       "      <td>United States</td>\n",
       "      <td>374</td>\n",
       "    </tr>\n",
       "  </tbody>\n",
       "</table>\n",
       "</div>"
      ],
      "text/plain": [
       "           index  Production\n",
       "0          Italy        2650\n",
       "1         France        2256\n",
       "2          Spain        1142\n",
       "3   South Africa         500\n",
       "4  United States         374"
      ]
     },
     "execution_count": 46,
     "metadata": {},
     "output_type": "execute_result"
    }
   ],
   "source": [
    "df_producer.head() #проверяем, корректно ли записался датафрейм"
   ]
  },
  {
   "cell_type": "code",
   "execution_count": 47,
   "metadata": {},
   "outputs": [],
   "source": [
    "df_producer.rename(columns = {'index':'Country'}, inplace = True) #переименовываем колонку"
   ]
  },
  {
   "cell_type": "code",
   "execution_count": 48,
   "metadata": {},
   "outputs": [
    {
     "data": {
      "text/html": [
       "<div>\n",
       "<style scoped>\n",
       "    .dataframe tbody tr th:only-of-type {\n",
       "        vertical-align: middle;\n",
       "    }\n",
       "\n",
       "    .dataframe tbody tr th {\n",
       "        vertical-align: top;\n",
       "    }\n",
       "\n",
       "    .dataframe thead th {\n",
       "        text-align: right;\n",
       "    }\n",
       "</style>\n",
       "<table border=\"1\" class=\"dataframe\">\n",
       "  <thead>\n",
       "    <tr style=\"text-align: right;\">\n",
       "      <th></th>\n",
       "      <th>Country</th>\n",
       "      <th>Production</th>\n",
       "    </tr>\n",
       "  </thead>\n",
       "  <tbody>\n",
       "    <tr>\n",
       "      <th>0</th>\n",
       "      <td>Italy</td>\n",
       "      <td>2650</td>\n",
       "    </tr>\n",
       "    <tr>\n",
       "      <th>1</th>\n",
       "      <td>France</td>\n",
       "      <td>2256</td>\n",
       "    </tr>\n",
       "    <tr>\n",
       "      <th>2</th>\n",
       "      <td>Spain</td>\n",
       "      <td>1142</td>\n",
       "    </tr>\n",
       "    <tr>\n",
       "      <th>3</th>\n",
       "      <td>South Africa</td>\n",
       "      <td>500</td>\n",
       "    </tr>\n",
       "    <tr>\n",
       "      <th>4</th>\n",
       "      <td>United States</td>\n",
       "      <td>374</td>\n",
       "    </tr>\n",
       "  </tbody>\n",
       "</table>\n",
       "</div>"
      ],
      "text/plain": [
       "         Country  Production\n",
       "0          Italy        2650\n",
       "1         France        2256\n",
       "2          Spain        1142\n",
       "3   South Africa         500\n",
       "4  United States         374"
      ]
     },
     "execution_count": 48,
     "metadata": {},
     "output_type": "execute_result"
    }
   ],
   "source": [
    "df_producer.head() #проверяем, корректно ли записался датафрейм"
   ]
  },
  {
   "cell_type": "code",
   "execution_count": 49,
   "metadata": {},
   "outputs": [
    {
     "data": {
      "text/plain": [
       "<matplotlib.axes._subplots.AxesSubplot at 0x7f90d7ac9550>"
      ]
     },
     "execution_count": 49,
     "metadata": {},
     "output_type": "execute_result"
    },
    {
     "data": {
      "image/png": "[encoded data removed]",
      "text/plain": [
       "<Figure size 432x288 with 1 Axes>"
      ]
     },
     "metadata": {},
     "output_type": "display_data"
    }
   ],
   "source": [
    "#чтобы понять, на какие категории можно разделить страны-производители вина по объему произведенного вина, построим гистограмму\n",
    "df_producer['Production'].hist(bins = 50)"
   ]
  },
  {
   "cell_type": "code",
   "execution_count": 50,
   "metadata": {},
   "outputs": [],
   "source": [
    "#по графику видим, что все страны можно разделить на группы:\n",
    "def get_country_cat(Production):\n",
    "    if Production <= 200:\n",
    "        return 'Низкий'\n",
    "    elif Production <= 1000:\n",
    "        return 'Умеренный'\n",
    "    elif Production <= 2000:\n",
    "        return 'Высокий'\n",
    "    elif Production <= 3000:\n",
    "        return 'Очень высокий'\n",
    "    else: \n",
    "        return Production"
   ]
  },
  {
   "cell_type": "code",
   "execution_count": 51,
   "metadata": {},
   "outputs": [],
   "source": [
    "df_producer['Production cat'] = df_producer['Production'].apply(get_country_cat) #присваиваем переменной имя"
   ]
  },
  {
   "cell_type": "code",
   "execution_count": 52,
   "metadata": {},
   "outputs": [],
   "source": [
    "df_producer['Production cat'] = pd.Categorical(df_producer['Production cat']) #обозначим, что это категориальная переменная"
   ]
  },
  {
   "cell_type": "code",
   "execution_count": 53,
   "metadata": {
    "scrolled": true
   },
   "outputs": [
    {
     "data": {
      "text/plain": [
       "Низкий           19\n",
       "Умеренный         8\n",
       "Очень высокий     2\n",
       "Высокий           1\n",
       "Name: Production cat, dtype: int64"
      ]
     },
     "execution_count": 53,
     "metadata": {},
     "output_type": "execute_result"
    }
   ],
   "source": [
    "df_producer['Production cat'].value_counts()"
   ]
  },
  {
   "cell_type": "code",
   "execution_count": 54,
   "metadata": {},
   "outputs": [],
   "source": [
    "top_countries = df_red.Country.value_counts()[:13] \n",
    "#выделим топ стран-производителей вина. для этого возьмем три категории: высокий, очень высокий и умеренный"
   ]
  },
  {
   "cell_type": "code",
   "execution_count": 55,
   "metadata": {},
   "outputs": [
    {
     "name": "stdout",
     "output_type": "stream",
     "text": [
      "Italy            2650\n",
      "France           2256\n",
      "Spain            1142\n",
      "South Africa      500\n",
      "United States     374\n",
      "Chile             326\n",
      "Germany           248\n",
      "Australia         246\n",
      "Argentina         246\n",
      "Portugal          230\n",
      "Austria           220\n",
      "New Zealand        63\n",
      "Brazil             40\n",
      "Name: Country, dtype: int64\n"
     ]
    }
   ],
   "source": [
    "print(top_countries)"
   ]
  },
  {
   "cell_type": "code",
   "execution_count": 56,
   "metadata": {},
   "outputs": [
    {
     "data": {
      "image/png": "[encoded data removed]",
      "text/plain": [
       "<Figure size 1440x288 with 1 Axes>"
      ]
     },
     "metadata": {},
     "output_type": "display_data"
    }
   ],
   "source": [
    "#создадим диаграмму, которая будет иллюстрировать топ-страны по объему произведенного вина. \n",
    "\n",
    "plt.figure(figsize=(20,4))\n",
    "\n",
    "graph = sns.barplot(data = top_countries, x = top_countries.index, y = top_countries)\n",
    "graph.set_title('Countries with the largest production', fontsize=20)\n",
    "graph.set_xlabel('Country', fontsize=15)\n",
    "graph.set_ylabel('Volume', fontsize=15)\n",
    "plt.xticks(rotation=45)\n",
    "\n",
    "plt.show()"
   ]
  },
  {
   "cell_type": "code",
   "execution_count": 57,
   "metadata": {},
   "outputs": [
    {
     "data": {
      "image/png": "[encoded data removed]",
      "text/plain": [
       "<Figure size 1152x432 with 1 Axes>"
      ]
     },
     "metadata": {},
     "output_type": "display_data"
    }
   ],
   "source": [
    "#построим диаграмму типа \"ящик с усами\", чтобы увидеть, как распределяются вина по рейтингам в зависимости от стран. \n",
    "\n",
    "plt.figure(figsize = (16,6))\n",
    "\n",
    "graph = sns.boxplot(x = 'Country', y = 'Rating',\n",
    "                 data = df_red,\n",
    "                 color='#f3e6db')\n",
    "graph.set_title(\"Rating by Country\", fontsize=20)\n",
    "graph.set_xlabel(\"Country\", fontsize=15)\n",
    "graph.set_ylabel(\"Rating\", fontsize=15)\n",
    "graph.set_xticklabels(graph.get_xticklabels())\n",
    "plt.xticks(rotation=45)\n",
    "\n",
    "plt.show()\n",
    "\n",
    "#Из нее мы видим, что наибольший разброс — у вин из Бразилии, Греции и Словении, тогда как наименьший — \n",
    "#у Венгрии, Ливана, Хорватии и Болгарии "
   ]
  },
  {
   "cell_type": "markdown",
   "metadata": {},
   "source": [
    "# Какие факторы влияют на цену вина?"
   ]
  },
  {
   "cell_type": "code",
   "execution_count": 58,
   "metadata": {},
   "outputs": [],
   "source": [
    "#есть ли корреляция между ценой вина и его рейтингом? от чего зависит цена вина?\n",
    "#прежде чем составлять корр. матрицу, исключим признак Wine to collect, тк он включает в себя остальные признаки\n",
    "df_red1 = df_red.drop(['Wine to collect'], axis = 1)"
   ]
  },
  {
   "cell_type": "code",
   "execution_count": 59,
   "metadata": {},
   "outputs": [
    {
     "data": {
      "text/html": [
       "<div>\n",
       "<style scoped>\n",
       "    .dataframe tbody tr th:only-of-type {\n",
       "        vertical-align: middle;\n",
       "    }\n",
       "\n",
       "    .dataframe tbody tr th {\n",
       "        vertical-align: top;\n",
       "    }\n",
       "\n",
       "    .dataframe thead th {\n",
       "        text-align: right;\n",
       "    }\n",
       "</style>\n",
       "<table border=\"1\" class=\"dataframe\">\n",
       "  <thead>\n",
       "    <tr style=\"text-align: right;\">\n",
       "      <th></th>\n",
       "      <th>Name</th>\n",
       "      <th>Country</th>\n",
       "      <th>Region</th>\n",
       "      <th>Winery</th>\n",
       "      <th>Rating</th>\n",
       "      <th>NumberOfRatings</th>\n",
       "      <th>Price</th>\n",
       "      <th>Year</th>\n",
       "      <th>Price category</th>\n",
       "      <th>High rating</th>\n",
       "      <th>Year category</th>\n",
       "    </tr>\n",
       "  </thead>\n",
       "  <tbody>\n",
       "    <tr>\n",
       "      <th>0</th>\n",
       "      <td>Pomerol 2011</td>\n",
       "      <td>France</td>\n",
       "      <td>Pomerol</td>\n",
       "      <td>Château La Providence</td>\n",
       "      <td>4.2</td>\n",
       "      <td>100</td>\n",
       "      <td>95.00</td>\n",
       "      <td>2011</td>\n",
       "      <td>Middle</td>\n",
       "      <td>False</td>\n",
       "      <td>Collection</td>\n",
       "    </tr>\n",
       "    <tr>\n",
       "      <th>1</th>\n",
       "      <td>Lirac 2017</td>\n",
       "      <td>France</td>\n",
       "      <td>Lirac</td>\n",
       "      <td>Château Mont-Redon</td>\n",
       "      <td>4.3</td>\n",
       "      <td>100</td>\n",
       "      <td>15.50</td>\n",
       "      <td>2017</td>\n",
       "      <td>Low</td>\n",
       "      <td>False</td>\n",
       "      <td>Vintage</td>\n",
       "    </tr>\n",
       "    <tr>\n",
       "      <th>2</th>\n",
       "      <td>Erta e China Rosso di Toscana 2015</td>\n",
       "      <td>Italy</td>\n",
       "      <td>Toscana</td>\n",
       "      <td>Renzo Masi</td>\n",
       "      <td>3.9</td>\n",
       "      <td>100</td>\n",
       "      <td>7.45</td>\n",
       "      <td>2015</td>\n",
       "      <td>Low</td>\n",
       "      <td>False</td>\n",
       "      <td>Vintage</td>\n",
       "    </tr>\n",
       "    <tr>\n",
       "      <th>3</th>\n",
       "      <td>Bardolino 2019</td>\n",
       "      <td>Italy</td>\n",
       "      <td>Bardolino</td>\n",
       "      <td>Cavalchina</td>\n",
       "      <td>3.5</td>\n",
       "      <td>100</td>\n",
       "      <td>8.72</td>\n",
       "      <td>2019</td>\n",
       "      <td>Low</td>\n",
       "      <td>False</td>\n",
       "      <td>Aged</td>\n",
       "    </tr>\n",
       "    <tr>\n",
       "      <th>4</th>\n",
       "      <td>Ried Scheibner Pinot Noir 2016</td>\n",
       "      <td>Austria</td>\n",
       "      <td>Carnuntum</td>\n",
       "      <td>Markowitsch</td>\n",
       "      <td>3.9</td>\n",
       "      <td>100</td>\n",
       "      <td>29.15</td>\n",
       "      <td>2016</td>\n",
       "      <td>Low</td>\n",
       "      <td>False</td>\n",
       "      <td>Vintage</td>\n",
       "    </tr>\n",
       "  </tbody>\n",
       "</table>\n",
       "</div>"
      ],
      "text/plain": [
       "                                 Name  Country     Region  \\\n",
       "0                        Pomerol 2011   France    Pomerol   \n",
       "1                          Lirac 2017   France      Lirac   \n",
       "2  Erta e China Rosso di Toscana 2015    Italy    Toscana   \n",
       "3                      Bardolino 2019    Italy  Bardolino   \n",
       "4      Ried Scheibner Pinot Noir 2016  Austria  Carnuntum   \n",
       "\n",
       "                  Winery  Rating  NumberOfRatings  Price  Year Price category  \\\n",
       "0  Château La Providence     4.2              100  95.00  2011         Middle   \n",
       "1     Château Mont-Redon     4.3              100  15.50  2017            Low   \n",
       "2             Renzo Masi     3.9              100   7.45  2015            Low   \n",
       "3             Cavalchina     3.5              100   8.72  2019            Low   \n",
       "4            Markowitsch     3.9              100  29.15  2016            Low   \n",
       "\n",
       "   High rating Year category  \n",
       "0        False    Collection  \n",
       "1        False       Vintage  \n",
       "2        False       Vintage  \n",
       "3        False          Aged  \n",
       "4        False       Vintage  "
      ]
     },
     "execution_count": 59,
     "metadata": {},
     "output_type": "execute_result"
    }
   ],
   "source": [
    "df_red1.head()"
   ]
  },
  {
   "cell_type": "code",
   "execution_count": 60,
   "metadata": {},
   "outputs": [
    {
     "data": {
      "text/html": [
       "<div>\n",
       "<style scoped>\n",
       "    .dataframe tbody tr th:only-of-type {\n",
       "        vertical-align: middle;\n",
       "    }\n",
       "\n",
       "    .dataframe tbody tr th {\n",
       "        vertical-align: top;\n",
       "    }\n",
       "\n",
       "    .dataframe thead th {\n",
       "        text-align: right;\n",
       "    }\n",
       "</style>\n",
       "<table border=\"1\" class=\"dataframe\">\n",
       "  <thead>\n",
       "    <tr style=\"text-align: right;\">\n",
       "      <th></th>\n",
       "      <th>Rating</th>\n",
       "      <th>NumberOfRatings</th>\n",
       "      <th>Price</th>\n",
       "      <th>Year</th>\n",
       "      <th>High rating</th>\n",
       "    </tr>\n",
       "  </thead>\n",
       "  <tbody>\n",
       "    <tr>\n",
       "      <th>Rating</th>\n",
       "      <td>1.000000</td>\n",
       "      <td>0.075216</td>\n",
       "      <td>0.451060</td>\n",
       "      <td>-0.336983</td>\n",
       "      <td>0.093019</td>\n",
       "    </tr>\n",
       "    <tr>\n",
       "      <th>NumberOfRatings</th>\n",
       "      <td>0.075216</td>\n",
       "      <td>1.000000</td>\n",
       "      <td>0.006407</td>\n",
       "      <td>0.004018</td>\n",
       "      <td>-0.007111</td>\n",
       "    </tr>\n",
       "    <tr>\n",
       "      <th>Price</th>\n",
       "      <td>0.451060</td>\n",
       "      <td>0.006407</td>\n",
       "      <td>1.000000</td>\n",
       "      <td>-0.360574</td>\n",
       "      <td>0.472242</td>\n",
       "    </tr>\n",
       "    <tr>\n",
       "      <th>Year</th>\n",
       "      <td>-0.336983</td>\n",
       "      <td>0.004018</td>\n",
       "      <td>-0.360574</td>\n",
       "      <td>1.000000</td>\n",
       "      <td>-0.037652</td>\n",
       "    </tr>\n",
       "    <tr>\n",
       "      <th>High rating</th>\n",
       "      <td>0.093019</td>\n",
       "      <td>-0.007111</td>\n",
       "      <td>0.472242</td>\n",
       "      <td>-0.037652</td>\n",
       "      <td>1.000000</td>\n",
       "    </tr>\n",
       "  </tbody>\n",
       "</table>\n",
       "</div>"
      ],
      "text/plain": [
       "                   Rating  NumberOfRatings     Price      Year  High rating\n",
       "Rating           1.000000         0.075216  0.451060 -0.336983     0.093019\n",
       "NumberOfRatings  0.075216         1.000000  0.006407  0.004018    -0.007111\n",
       "Price            0.451060         0.006407  1.000000 -0.360574     0.472242\n",
       "Year            -0.336983         0.004018 -0.360574  1.000000    -0.037652\n",
       "High rating      0.093019        -0.007111  0.472242 -0.037652     1.000000"
      ]
     },
     "execution_count": 60,
     "metadata": {},
     "output_type": "execute_result"
    }
   ],
   "source": [
    "corr_m = df_red1.corr()\n",
    "corr_m"
   ]
  },
  {
   "cell_type": "code",
   "execution_count": 61,
   "metadata": {},
   "outputs": [
    {
     "data": {
      "text/plain": [
       "<matplotlib.axes._subplots.AxesSubplot at 0x7f90d820fba8>"
      ]
     },
     "execution_count": 61,
     "metadata": {},
     "output_type": "execute_result"
    },
    {
     "data": {
      "image/png": "[encoded data removed]",
      "text/plain": [
       "<Figure size 432x360 with 2 Axes>"
      ]
     },
     "metadata": {},
     "output_type": "display_data"
    }
   ],
   "source": [
    "plt.figure(figsize = (6,5))\n",
    "matrix = np.triu(corr_m)\n",
    "sns.heatmap(corr_m, annot = True,\n",
    "            center = 1, \n",
    "            linecolor = 'yellow', \n",
    "            annot_kws = {'size':15}, \n",
    "            cmap = 'Reds', \n",
    "            vmax = 1, \n",
    "            vmin = -1,\n",
    "            fmt = '.1g',\n",
    "            cbar_kws = {'label':'Факторы, влияющие на цену вина'}) \n",
    "#по корреляционной матрице видим, что наибольшее влияние на цену вина оказывает рейтинг. При этом корреляция все равно слабая"
   ]
  },
  {
   "cell_type": "code",
   "execution_count": 62,
   "metadata": {},
   "outputs": [
    {
     "data": {
      "text/plain": [
       "Text(0,0.5,'Цена на вино (долл.)')"
      ]
     },
     "execution_count": 62,
     "metadata": {},
     "output_type": "execute_result"
    },
    {
     "data": {
      "image/png": "[encoded data removed]",
      "text/plain": [
       "<Figure size 1008x576 with 1 Axes>"
      ]
     },
     "metadata": {},
     "output_type": "display_data"
    }
   ],
   "source": [
    "#проследим, как год производства вина влияет на цену\n",
    "fig, ax = plt.subplots(figsize=(14,8))\n",
    "graph = ax.scatter(df_red['Year'], df_red['Price'], c = df_red['High rating'], s = df_red['Rating']*50, alpha = 0.4)\n",
    "\n",
    "ax.set_title('Зависимость цены на вино от года производства и рейтинга', fontsize=14)\n",
    "ax.spines['right'].set_visible(False)\n",
    "ax.spines['top'].set_visible(False)\n",
    "ax.spines['right'].set_visible(False)\n",
    "ax.spines['top'].set_visible(False)\n",
    "ax.spines['left'].set_linewidth(0.2)\n",
    "ax.spines['bottom'].set_linewidth(0.2)\n",
    "ax.set_xlabel('Год производства', fontsize=10)\n",
    "ax.set_ylabel('Цена на вино (долл.)', fontsize=10)\n",
    "\n",
    "#вывод — график подтверждает выводы корреляционной матрицы выше: зависимости между ценой и годом производства не наблюдается. \n",
    "#Однако отметим, что все вина с высоким рейтингом (выше 4,5) были произведены между 2010 и 2015 годом. "
   ]
  },
  {
   "cell_type": "markdown",
   "metadata": {},
   "source": [
    "Выводы: \n",
    "    1) 13 наименований из датасета удовлетворяют критериям коллекционного вина. \n",
    "    2) Топ-3 производителей вина: Италия, Франция, Испания. Наибольший разброс в качестве вина, согласно оценкам — у вин из Бразилии, Греции и Словении, тогда как наименьший — у Венгрии, Ливана, Хорватии и Болгарии. \n",
    "    3) Наибольшее влияние на цену вина оказывает рейтинг. При этом корреляция все равно слабая. Все вина с высоким рейтингом (выше 4,5) были произведены между 2010 и 2015 годом. "
   ]
  }
 ],
 "metadata": {
  "kernelspec": {
   "display_name": "Python 3",
   "language": "python",
   "name": "python3"
  },
  "language_info": {
   "codemirror_mode": {
    "name": "ipython",
    "version": 3
   },
   "file_extension": ".py",
   "mimetype": "text/x-python",
   "name": "python",
   "nbconvert_exporter": "python",
   "pygments_lexer": "ipython3",
   "version": "3.6.5"
  }
 },
 "nbformat": 4,
 "nbformat_minor": 2
}
